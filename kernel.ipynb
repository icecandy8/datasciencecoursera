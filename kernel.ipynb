{
  "cells": [
    {
      "metadata": {
        "_uuid": "8c8591f89df1d36843546a8241150b966682d4c8",
        "_cell_guid": "5f1611b2-6aae-4694-9516-d7651880b314",
        "trusted": true,
        "collapsed": true
      },
      "cell_type": "markdown",
      "source": "# Data Reading\nReading the given datasets into pandas dataframes\n"
    },
    {
      "metadata": {
        "_uuid": "0d9fdf505bc0a0c98d4f3d8bb5ef387f05cda426",
        "_cell_guid": "1dde37af-64d3-45fc-b1b9-c300a1d49fc2",
        "trusted": true,
        "collapsed": true
      },
      "cell_type": "code",
      "source": "import pandas as pd\nimport numpy as np\nfrom sklearn.impute import SimpleImputer\n\ntrain_data = pd.read_csv('../input/yds_train2018.csv')\ntest_data = pd.read_csv('../input/yds_test2018.csv')\npromotional_data = pd.read_csv('../input/promotional_expense.csv')\nholidays_data = pd.read_excel('../input/holidays.xlsx')\n",
      "execution_count": null,
      "outputs": []
    },
    {
      "metadata": {
        "_uuid": "390958537e6e6f663708b2d2cd4bd42b3a3d4cfd",
        "_cell_guid": "b62d4ca0-38c8-4cbf-91f8-d5b95eb293fc",
        "trusted": true,
        "collapsed": true
      },
      "cell_type": "markdown",
      "source": "# Resampling Train Data Set\nAggregating weekly sales into months and sorting them on Countries ascending order"
    },
    {
      "metadata": {
        "_uuid": "25c8f2fc298bb94a2c40075dff37f3fe3d132f4e",
        "_cell_guid": "051872bc-8ad1-4e9e-b9e2-af7ec905f9c5",
        "trusted": true,
        "collapsed": true
      },
      "cell_type": "code",
      "source": "data_monthly = train_data.groupby([ 'Year', 'Month', 'Product_ID', 'Country'], as_index=False)['Sales'].sum().sort_values(['Country','Year','Month','Product_ID'], ascending=True)\ndata_monthly.head(10)",
      "execution_count": null,
      "outputs": []
    },
    {
      "metadata": {
        "_uuid": "503ac4c159eb745678c4756aa8d1d2b81697be2a",
        "_cell_guid": "5538ff34-3427-4cb5-a11d-30a6378a631e",
        "trusted": true,
        "collapsed": true
      },
      "cell_type": "markdown",
      "source": "# Creating Master Dataset \n\nThe objective is to add the information from holidays dataset and promotional expense dataset as features into train and test datasets\n\nInitially the Date column of holidays dataset is converted to datetime object to derive month and year features from this datetime object\n\nThe holiday count per month is counted and added as a seperate feature in the holiday dataset\n"
    },
    {
      "metadata": {
        "trusted": true,
        "_uuid": "4d2760ea868713e33331d6e27372223538518028",
        "collapsed": true
      },
      "cell_type": "code",
      "source": "holidays_data['Date'] = pd.to_datetime(holidays_data['Date'])\nholidays_data['Year'] = pd.DatetimeIndex(holidays_data['Date']).year\nholidays_data['Month'] = pd.DatetimeIndex(holidays_data['Date']).month\n\nholidays_data = holidays_data.groupby([ 'Year', 'Month', 'Country'], as_index=False)['Holiday'].count()\nholidays_data.head(10)",
      "execution_count": null,
      "outputs": []
    },
    {
      "metadata": {
        "trusted": true,
        "_uuid": "3d10b1cebd300ca995cf50d7cf0a9cd2021518c6",
        "collapsed": true
      },
      "cell_type": "markdown",
      "source": "Performing** Left Join **on **aggregated_monthly_train** and **test dataset** with **promotional dataset** on Year Month ProductID and Country"
    },
    {
      "metadata": {
        "trusted": true,
        "_uuid": "566dad56711b5d28032d0d34f6218c6672a5cb06",
        "collapsed": true
      },
      "cell_type": "code",
      "source": "temp1_data = pd.merge(data_monthly, promotional_data, how='left', on=['Year','Month','Product_ID','Country'])\ntemp2_data = pd.merge(test_data, promotional_data, how='left', on=['Year','Month','Product_ID','Country'])\n\nprint('Edited Train Dataset with additional Expense_Price Feature')\nprint(temp1_data.head(10),'\\n')\nprint('Edited Test Dataset with additional Expense_Price Feature')\nprint(temp2_data.head(10))",
      "execution_count": null,
      "outputs": []
    },
    {
      "metadata": {
        "_uuid": "4c686ffd8a9eaadfe88341e2930727daf79a6cbf"
      },
      "cell_type": "markdown",
      "source": "Merging the above train and test datasets with holidays dataset to form final master datasets"
    },
    {
      "metadata": {
        "trusted": true,
        "_uuid": "898264b47dc272f9e1cc7ebfea7c92f582a23175",
        "collapsed": true
      },
      "cell_type": "code",
      "source": "final1_data = pd.merge(temp1_data, holidays_data, how='left', left_on=['Year','Month','Country'], right_on = ['Year','Month','Country'])\nfinal2_data = pd.merge(temp2_data, holidays_data, how='left', on=['Year','Month','Country'])\n\nprint('Master Train Dataset with additional Expense_Price Feature, Holiday Feature')\nprint(final1_data.head(10),'\\n')\nprint('Master Test Dataset with additional Expense_Price Feature, Holiday Feature')\nprint(final2_data.head(10))",
      "execution_count": null,
      "outputs": []
    },
    {
      "metadata": {
        "_uuid": "9147d1b13ecd3152fefa546301be3edaea05b6fe"
      },
      "cell_type": "markdown",
      "source": "# Data Cleaning\nFor the Holiday Feature, the NaN values are replaced by 0, since imputing them will not make sense as those months will not have that many holidays\n\nFor the Expense_Price Feature, mean and median imputation is compared and median imputation is chosen since majority of values are closer to computed mean than the computed median"
    },
    {
      "metadata": {
        "trusted": true,
        "_uuid": "9bda17dcedc6bab29cdc4455704d6fef538ff1e5",
        "collapsed": true
      },
      "cell_type": "code",
      "source": "#Data Imputation Training Data\n#Holiday Replacing NaN with 0 since no holidays in that month denote 0 Holiday\nfinal1_data['Holiday'].fillna(0,inplace=True)\n#Expense Price using Median as Imputation Parameter\nmean = final1_data['Expense_Price'].mean()\nmedian = final1_data['Expense_Price'].median()\nfinal1_data['Expense_Price'].fillna(median,inplace=True)\n\n#Data Imputation Test Data\n#Holiday Replacing NaN with 0 since no holidays in that month denote 0 Holiday\nfinal2_data['Holiday'].fillna(0,inplace=True)\n#Expense Price using Median as Imputation Parameter\nmean = final2_data['Expense_Price'].mean()\nmedian = final2_data['Expense_Price'].median()\nfinal2_data['Expense_Price'].fillna(median,inplace=True)\n\nprint('Cleaned Master Train Dataset')\nprint(final1_data.head(10),'\\n')\nprint('Cleaned Test Dataset')\nprint(final2_data.head(10))",
      "execution_count": null,
      "outputs": []
    },
    {
      "metadata": {
        "_uuid": "757a07dedf0fd12c8083e725116e1521da5dc021"
      },
      "cell_type": "markdown",
      "source": "Writing final test and train master datasets to csv for further analysis with RapidMiner Studio"
    },
    {
      "metadata": {
        "trusted": true,
        "collapsed": true,
        "_uuid": "bbc5bcf8b217563cb67b93f8156050fcb5046407"
      },
      "cell_type": "code",
      "source": "final1_data.to_csv('train_data_addedFeatures_mean.csv', sep=',', encoding='utf-8',header=True, index_label='id')\nfinal2_data.to_csv('test_with_addedFeatures_mean.csv', sep=',', encoding='utf-8',header=True, index_label='id')",
      "execution_count": null,
      "outputs": []
    },
    {
      "metadata": {
        "_uuid": "5b64412f281b214d9b2079b438203449979db8e8"
      },
      "cell_type": "markdown",
      "source": "# Data Exploration and Data Visualization"
    },
    {
      "metadata": {
        "trusted": true,
        "collapsed": true,
        "_uuid": "c7d662f1bed541d2713b830dd55d7edd49ac1577"
      },
      "cell_type": "code",
      "source": "",
      "execution_count": null,
      "outputs": []
    }
  ],
  "metadata": {
    "language_info": {
      "name": "python",
      "version": "3.6.6",
      "mimetype": "text/x-python",
      "codemirror_mode": {
        "name": "ipython",
        "version": 3
      },
      "pygments_lexer": "ipython3",
      "nbconvert_exporter": "python",
      "file_extension": ".py"
    },
    "kernelspec": {
      "display_name": "Python 3",
      "language": "python",
      "name": "python3"
    }
  },
  "nbformat": 4,
  "nbformat_minor": 1
}